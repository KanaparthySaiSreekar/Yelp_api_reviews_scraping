{
  "nbformat": 4,
  "nbformat_minor": 0,
  "metadata": {
    "anaconda-cloud": {},
    "kernelspec": {
      "display_name": "Python 3",
      "language": "python",
      "name": "python3"
    },
    "language_info": {
      "codemirror_mode": {
        "name": "ipython",
        "version": 3
      },
      "file_extension": ".py",
      "mimetype": "text/x-python",
      "name": "python",
      "nbconvert_exporter": "python",
      "pygments_lexer": "ipython3",
      "version": "3.6.7"
    },
    "colab": {
      "name": "day_3_Assignment_2.ipynb",
      "provenance": [],
      "collapsed_sections": [],
      "toc_visible": true
    }
  },
  "cells": [
    {
      "cell_type": "markdown",
      "metadata": {
        "id": "y2AN9XHp6pwg"
      },
      "source": [
        "# Scraper\n",
        "\n"
      ]
    },
    {
      "cell_type": "code",
      "metadata": {
        "id": "FVxvkyYh9t9T",
        "colab": {
          "base_uri": "https://localhost:8080/"
        },
        "outputId": "7dc26b48-aa51-4d92-c9e6-75d375b63ade"
      },
      "source": [
        "!git clone https://github.com/gauravmm/jupyter-testing.git\n",
        "%cd jupyter-testing/"
      ],
      "execution_count": null,
      "outputs": [
        {
          "output_type": "stream",
          "text": [
            "Cloning into 'jupyter-testing'...\n",
            "remote: Enumerating objects: 45, done.\u001b[K\n",
            "remote: Counting objects: 100% (45/45), done.\u001b[K\n",
            "remote: Compressing objects: 100% (23/23), done.\u001b[K\n",
            "remote: Total 45 (delta 17), reused 45 (delta 17), pack-reused 0\u001b[K\n",
            "Unpacking objects: 100% (45/45), done.\n",
            "/content/jupyter-testing\n"
          ],
          "name": "stdout"
        }
      ]
    },
    {
      "cell_type": "code",
      "metadata": {
        "id": "HITG_ZVx6pwm"
      },
      "source": [
        "# setup library imports\n",
        "import io, time, json\n",
        "import requests\n",
        "from pathlib import Path\n",
        "from bs4 import BeautifulSoup\n",
        "from testing.testing import test"
      ],
      "execution_count": null,
      "outputs": []
    },
    {
      "cell_type": "markdown",
      "metadata": {
        "id": "_1cvI8Ln6pw3"
      },
      "source": [
        "## Library Documentation\n",
        "\n",
        "* Standard Library: \n",
        "    * [io](https://docs.python.org/2/library/io.html)\n",
        "    * [time](https://docs.python.org/2/library/time.html)\n",
        "    * [json](https://docs.python.org/2/library/json.html)\n",
        "\n",
        "* Third Party\n",
        "    * [requests](http://docs.python-requests.org/en/master/)\n",
        "    * [Beautiful Soup (version 4)](https://www.crummy.com/software/BeautifulSoup/bs4/doc/)\n",
        "    * [yelp-fusion](https://www.yelp.com/developers/documentation/v3/get_started)\n",
        "\n",
        "**Note:** You may come across a `yelp-python` library online. The library is deprecated and incompatible with the current Yelp API, so do not use the library."
      ]
    },
    {
      "cell_type": "markdown",
      "metadata": {
        "id": "HjgcaLHG6pw-"
      },
      "source": [
        "## Introduction\n",
        "\n",
        "Welcome to the homework on web scraping. While many people might view working with data (including scraping, parsing, storing, etc.) a necessary evil to get to the \"fun\" stuff (i.e. modeling), I think that if presented in the right way this munging can be quite empowering. Imagine you never had to worry or ask those _what if_ questions about data existing or being accessible... but that you can get it yourself!\n",
        "\n",
        "By the end of this exercise hopefully you should look at the wonderful world wide web without fear, comforted by the fact that anything you can see with your human eyes, a computer can see with its computer eyes...\n",
        " \n",
        "### Objectives\n",
        "\n",
        "But more concretely, this homework will teach you (and test you on):\n",
        "\n",
        "* HTTP Requests (and lifecycle)\n",
        "* RESTful APIs\n",
        "    * Authentication (OAuth)\n",
        "    * Pagination\n",
        "    * Rate limiting\n",
        "* JSON vs. HTML (and how to parse each)\n",
        "* HTML traversal (CSS selectors)"
      ]
    },
    {
      "cell_type": "markdown",
      "metadata": {
        "id": "VNB5Ufjo6pxD"
      },
      "source": [
        "## Working with APIs\n",
        "\n",
        "Since everyone loves food (presumably), the ultimate end goal of this homework will be to acquire the data to answer some questions and hypotheses about the restaurant scene in Pittsburgh (which we will get to later). We will download __both__ the metadata on restaurants in Pittsburgh from the Yelp API and with this metadata, retrieve the comments/reviews and ratings from users on restaurants.\n",
        "\n",
        "But first things first, let's do the \"hello world\" of making web requests with Python to get a sense for how to programmatically access web pages: an (unauthenticated) HTTP GET to download a web page.\n",
        "\n",
        "---"
      ]
    },
    {
      "cell_type": "markdown",
      "metadata": {
        "id": "-yBww3g_6pxH"
      },
      "source": [
        "## Q0: Basic HTTP Requests\n",
        "\n",
        "Fill in the funtion to use `requests` to download and return the raw HTML content of the URL passed in as an argument. As an example try the following NYT article (on Facebook's algorithmic news feed): [http://www.nytimes.com/2016/08/28/magazine/inside-facebooks-totally-insane-unintentionally-gigantic-hyperpartisan-political-media-machine.html](http://www.nytimes.com/2016/08/28/magazine/inside-facebooks-totally-insane-unintentionally-gigantic-hyperpartisan-political-media-machine.html)\n",
        "\n",
        "> Your function should return a tuple of: (`<status_code>`, `<raw_html>`)\n",
        "\n",
        "```python\n",
        ">>> facebook_article = retrieve_html('http://www.nytimes.com/2016/08/28/magazine/inside-facebooks-totally-insane-unintentionally-gigantic-hyperpartisan-political-media-machine.html')\n",
        ">>> print(facebook_article)\n",
        "(200, u'<!DOCTYPE html>\\n<!--[if (gt IE 9)|!(IE)]> <!--> <html lang=\"en\" class=\"no-js section-magazine...')\n",
        "```"
      ]
    },
    {
      "cell_type": "code",
      "metadata": {
        "id": "YIK2tIzL6pxK",
        "colab": {
          "base_uri": "https://localhost:8080/"
        },
        "outputId": "65b8c005-ed92-4aeb-863f-ed960966230b"
      },
      "source": [
        "def retrieve_html_test(retrieve_html):\n",
        "    status_code, text = retrieve_html(\"http://www.example.com\")\n",
        "    test.equal(status_code, 200)\n",
        "    test.true(\"This domain is for use in illustrative examples in documents.\" in text)\n",
        "    # Note that the text hash may change depending on the remote server. Feel free to change the test.\n",
        "\n",
        "@test\n",
        "def retrieve_html(url):\n",
        "    \"\"\"\n",
        "    Return the raw HTML at the specified URL.\n",
        "\n",
        "    Args:\n",
        "        url (string): \n",
        "\n",
        "    Returns:\n",
        "        status_code (integer):\n",
        "        raw_html (string): the raw HTML content of the response, properly encoded according to the HTTP headers.\n",
        "    \"\"\"\n",
        "    response = requests.get(url)\n",
        "    #print(response.text)\n",
        "    return response.status_code,response.text\n"
      ],
      "execution_count": null,
      "outputs": [
        {
          "output_type": "stream",
          "text": [
            "### TESTING retrieve_html: PASSED 2/2\n",
            "###\n",
            "\n"
          ],
          "name": "stdout"
        }
      ]
    },
    {
      "cell_type": "markdown",
      "metadata": {
        "id": "s-7wjeKl6pxa"
      },
      "source": [
        "---\n",
        "\n",
        "Now while this example might have been fun, we haven't yet done anything more than we could with a web browser. To really see the power of programmatically making web requests we will need to interact with a API. For the rest of this homework we will be working with the [Yelp API](https://www.yelp.com/developers/documentation/v3/get_started) and Yelp data (for an extensive data dump see their [Academic Dataset Challenge](https://www.yelp.com/dataset_challenge)). The reasons for using the Yelp API are 3 fold:\n",
        "\n",
        "1. Incredibly rich dataset that combines:\n",
        "    * entity data (users and businesses)\n",
        "    * preferences (i.e. ratings)\n",
        "    * geographic data (business location and check-ins)\n",
        "    * temporal data\n",
        "    * text in the form of reviews\n",
        "    * and even images.\n",
        "2. Well [documented API](https://www.yelp.com/developers/documentation/v3/get_started) with thorough examples.\n",
        "3. Extensive data coverage so that you can find data that you know personally (from your home town/city or account). This will help with understanding and interpreting your results."
      ]
    },
    {
      "cell_type": "markdown",
      "metadata": {
        "id": "YClerlqs6pxc"
      },
      "source": [
        "## Authentication\n",
        "\n",
        "To access the Yelp API however we will need to go through a few more steps than we did with the first NYT example. Most large web scale companies use a combination of authentication and rate limiting to control access to their data to ensure that everyone using it abides. The first step (even before we make any request) is to setup a Yelp account if you do not have one and get API credentials."
      ]
    },
    {
      "cell_type": "markdown",
      "metadata": {
        "id": "iZ1X8zyB6pxe"
      },
      "source": [
        "## Yelp API Access\n",
        "\n",
        "1. Create a Yelp account (if you do not have one already)\n",
        "2. [Generate API keys](https://www.yelp.com/developers/v3/manage_app) (if you haven't already). You will only need the API Key (not the Client ID or Client Secret) -- more on that later.\n"
      ]
    },
    {
      "cell_type": "markdown",
      "metadata": {
        "id": "JdZJIVc86pxf"
      },
      "source": [
        "Now that we have our accounts setup we can start making requests! There are various authentication schemes that APIs use, listed here in relative order of complexity:\n",
        "\n",
        "* No authentication\n",
        "* [HTTP basic authentication](https://en.wikipedia.org/wiki/Basic_access_authentication)\n",
        "* Cookie based user login\n",
        "* OAuth (v1.0 & v2.0, see this [post](http://stackoverflow.com/questions/4113934/how-is-oauth-2-different-from-oauth-1) explaining the differences)\n",
        "* API keys\n",
        "* Custom Authentication\n",
        "\n",
        "For the NYT example, since it is a publicly visible page we did not need to authenticate. HTTP basic authentication isn't too common for consumer sites/applications that have the concept of user accounts (like Facebook, LinkedIn, Twitter, etc.) but is simple to setup quickly and you often encounter it on with individual password protected pages/sites. I'm sure you have seen [this](http://i.stack.imgur.com/QnUZW.png) before somewhere.\n",
        "\n",
        "Cookie based user login is what the majority of services use when you login with a browser (i.e. username and password). Once you sign in to a service like Facebook, the response stores a cookie in your browser to remember that you have logged in (HTTP is stateless). Each subsequent request to the same domain (i.e. any page on `facebook.com`) also sends the cookie that contains the authentication information to remind Facebook's servers that you have already logged in.\n",
        "\n",
        "Many REST APIs however use OAuth (authentication using tokens) which can be thought of a programmatic way to \"login\" _another_ user. Using tokens, a user (or application) only needs to send the login credentials once in the initial authentication and as a response from the server gets a special signed token. This signed token is then sent in future requests to the server (in place of the user credentials).\n",
        "\n",
        "A similar concept common used by many APIs is to assign API Keys to each client that needs access to server resources. The client must then pass the API Key along with _every_ request it makes to the API to authenticate. This is because the server is typically relatively stateless and does not maintain a session between subsequent calls from the same client. Most APIs (including Yelp) allow you to pass the API Key via a special HTTP Header: `Authorization: Bearer <API_KEY>`. Check out the [docs](https://www.yelp.com/developers/documentation/v3/authentication) for more information.\n",
        "\n",
        "Yelp used to use OAuth tokens but has now switched to API Keys. **For the sake of backwards compatibility Yelp still provides a Client ID and Secret for OAuth, but you will not need those for this assignment.** \n",
        "\n",
        "---\n"
      ]
    },
    {
      "cell_type": "markdown",
      "metadata": {
        "id": "7scAz4rS6pxi"
      },
      "source": [
        "## Q1: Authenticated HTTP Request with the Yelp API\n",
        "\n",
        "First, store your Yelp credentials in a local file which you can read in to authenticate with the API. This file can be any format/structure since you will fill in the function stub below.\n",
        "\n",
        "\n",
        "**KEEP THE API KEY FILE PRIVATE AND OUT OF VERSION CONTROL**\n",
        "\n",
        "Using the Yelp API, fill in the following function stub to make an authenticated request to the [search](https://www.yelp.com/developers/documentation/v3/business_search) endpoint.\n",
        "\n",
        "> As a test, search for businesses in Pittsburgh. You should find ~13400 total depending on when you search (but this will actually differ from the number of actual Business objects returned... more on this in the next section)\n",
        "\n",
        "When writing the python request, you'll need to pass in a custom header as well as a parameter. Here are some examples for [response headers](http://docs.python-requests.org/en/master/user/quickstart/#response-headers) and [passing parameters in urls](http://docs.python-requests.org/en/master/user/quickstart/#passing-parameters-in-urls)\n",
        "\n",
        "```python\n",
        ">>> api_key = read_api_key('api_key.txt')\n",
        ">>> num_records, data = yelp_search(api_key, 'Pittsburgh')\n",
        ">>> print(num_records)\n",
        "2900\n",
        ">>> print(list(map(lambda x: x['name'], data)))\n",
        "['Gaucho Parrilla Argentina', 'Randyland', 'Redhawk Coffee', 'Phipps Conservatory and Botanical Gardens', 'La Gourmandine Bakery & Pastry Shop', ...]\n",
        "```"
      ]
    },
    {
      "cell_type": "code",
      "metadata": {
        "id": "p3RyNAg4bWMK",
        "colab": {
          "base_uri": "https://localhost:8080/"
        },
        "outputId": "92e085fd-48c4-4059-c3e6-bd9d3047fd3b"
      },
      "source": [
        "%cd /content/"
      ],
      "execution_count": null,
      "outputs": [
        {
          "output_type": "stream",
          "text": [
            "/content\n"
          ],
          "name": "stdout"
        }
      ]
    },
    {
      "cell_type": "code",
      "metadata": {
        "id": "sgs9aooX6pxj"
      },
      "source": [
        "def read_api_key(filepath=\"api_key.txt\"):\n",
        "    \"\"\"\n",
        "    Read the Yelp API Key from file.\n",
        "    \n",
        "    Args:\n",
        "        filepath (string): File containing API Key\n",
        "    Returns:\n",
        "        api_key (string): The API Key\n",
        "    \"\"\"\n",
        "    \n",
        "    # Feel free to modify this function if you are storing the API Key differently\n",
        "    return Path(filepath).read_text().strip()"
      ],
      "execution_count": null,
      "outputs": []
    },
    {
      "cell_type": "code",
      "metadata": {
        "id": "9A2mlGqa6pxs",
        "colab": {
          "base_uri": "https://localhost:8080/"
        },
        "outputId": "7451bbd1-e9fa-46f9-c930-f31fa7938952"
      },
      "source": [
        "def yelp_search_test(yelp_search):\n",
        "    total, business = yelp_search(read_api_key(), \"Pittsburgh\")\n",
        "    test.true(abs(total - 2600) < 101)\n",
        "    expected_keys = ['id', 'name', 'phone', 'review_count']\n",
        "    if len(business):\n",
        "        test.true(all(k in set(business[0].keys()) for k in expected_keys))\n",
        "\n",
        "@test\n",
        "def yelp_search(api_key, query):\n",
        "    \"\"\"\n",
        "    Make an authenticated request to the Yelp API.\n",
        "\n",
        "    Args:\n",
        "        query (string): Search term\n",
        "\n",
        "    Returns:\n",
        "        total (integer): total number of businesses on Yelp corresponding to the query\n",
        "        businesses (list): list of dicts representing each business\n",
        "    \"\"\"\n",
        "    headers = {'Authorization': 'Bearer %s' % api_key}\n",
        "    params = {'location':query}\n",
        "    response=requests.get(\"https://api.yelp.com/v3/businesses/search\",params=params, headers=headers)\n",
        "    \n",
        "    return response.json()[\"total\"], response.json()[\"businesses\"]\n"
      ],
      "execution_count": null,
      "outputs": [
        {
          "output_type": "stream",
          "text": [
            "### TESTING yelp_search: PASSED 2/2\n",
            "###\n",
            "\n"
          ],
          "name": "stdout"
        }
      ]
    },
    {
      "cell_type": "markdown",
      "metadata": {
        "id": "Ydl2zClR6px7"
      },
      "source": [
        "---\n",
        "\n",
        "Now that we have completed the \"hello world\" of working with the Yelp API, we are ready to really fly! The rest of the exercise will have a bit less direction since there are a variety of ways to retrieve the requested information but you should have all the component knowledge at this point to work with the API. Yelp being a fairly general platform actually has many more business than just restaurants, but by using the flexibility of the API we can ask it to only return the restaurants."
      ]
    },
    {
      "cell_type": "markdown",
      "metadata": {
        "id": "682XOrH66px-"
      },
      "source": [
        "## Parameterization and Pagination\n",
        "\n",
        "And before we can get any reviews on restaurants, we need to actually get the metadata on ALL of the restaurants in Pittsburgh. Notice above that while Yelp told us that there are ~13400, the response contained far fewer actual `Business` objects. This is due to pagination and is a safeguard against returning __TOO__ much data in a single request (what would happen if there were 100,000 restaurants?) and can be used in conjuction with _rate limiting_ as well as a way to throttle and protect access to Yelp data.\n",
        "\n",
        "If an API has 1,000,000 records, but only returns 10 records per page and limits you to 5 requests per second... how long will it take to acquire ALL of the records contained in the API?\n",
        "\n",
        "One of the ways that APIs are an improvement over plain web scraping is the ability to make __parameterized__ requests. Just like the Python functions you have been writing have arguments (or parameters) that allow you to customize its behavior/actions (an output) without having to rewrite the function entirely, we can parameterize the queries we make to the Yelp API to filter the results it returns.\n",
        "\n",
        "---"
      ]
    },
    {
      "cell_type": "markdown",
      "metadata": {
        "id": "Frn1lKeX6pyA"
      },
      "source": [
        "## Q2: Aquire all of the restaurants in Pittsburgh (on Yelp)\n",
        "\n",
        "Again using the [API documentation](https://www.yelp.com/developers/documentation/v3/business_search) for the `search` endpoint, fill in the following function to retrieve all of the _Restaurants_ (using categories) for a given query. Again you should use your `read_api_key()` function outside of the `all_restaurants()` stub to read the API Key used for the requests. You will need to account for __pagination__ and __[rate limiting](https://www.yelp.com/developers/faq)__ to:\n",
        "\n",
        "1. Retrieve all of the Business objects (# of business objects should equal `total` in the response). Paginate by querying 20 restaurants each request.\n",
        "2. Pause slightly (at least 200 milliseconds) between subsequent requests so as to not overwhelm the API (and get blocked).  \n",
        "\n",
        "As always with API access, make sure you follow all of the [API's policies](https://www.yelp.com/developers/api_terms) and use the API responsibly and respectfully.\n",
        "\n",
        "**DO NOT MAKE TOO MANY REQUESTS TOO QUICKLY OR YOUR KEY MAY BE BLOCKED**\n",
        "\n",
        "Again, you can test your function with an individual neighborhod in Pittsburgh (I recommend Polish Hill). Pittsburgh itself has a lot of restaurants... meaning it will take a lot of time to download them all.\n",
        "\n",
        "```python\n",
        ">>> data = all_restaurants(api_key, 'Polish Hill, Pittsburgh')\n",
        ">>> print(len(data))\n",
        "315\n",
        ">>> print([x['name'] for x in data])\n",
        "['Lili Cafe', 'Morcilla', 'Umami', 'Piccolo Forno', \"Alfred's Deli & Market\", ...]\n",
        "```"
      ]
    },
    {
      "cell_type": "code",
      "metadata": {
        "id": "cY_qm6466pyC"
      },
      "source": [
        "def all_restaurants(api_key, query):\n",
        "    \"\"\"\n",
        "    Retrieve ALL the restaurants on Yelp for a given query.\n",
        "\n",
        "    Args:\n",
        "        query (string): Search term\n",
        "\n",
        "    Returns:\n",
        "        results (list): list of dicts representing each business\n",
        "    \"\"\"\n",
        "    data=[]\n",
        "    url = \"https://api.yelp.com/v3/businesses/search\"\n",
        "    headers = {'Authorization': 'Bearer %s' % api_key}\n",
        "    for offset in range(0,500,50):\n",
        "      params = {'location':query.replace(\" \",\"+\"),'limit':50,'offset':offset}\n",
        "      response=requests.get(url=url,params=params,headers=headers)\n",
        "      print(response)\n",
        "      if response.status_code==200:\n",
        "        data+=(response.json()[\"businesses\"])\n",
        "      elif response.status_code==400:\n",
        "        break\n",
        "          \n",
        "    #print(response.text)\n",
        "    #print(len(data))\n",
        "    return data"
      ],
      "execution_count": null,
      "outputs": []
    },
    {
      "cell_type": "markdown",
      "metadata": {
        "id": "8El3rhRI6pyI"
      },
      "source": [
        "---\n",
        "\n",
        "Now that we have the metadata on all of the restaurants in Pittsburgh (or at least the ones listed on Yelp), we can retrieve the reviews and ratings. The Yelp API gives us aggregate information on ratings but it doesn't give us the review text or individual users' ratings for a restaurant. For that we need to turn to web scraping, but to find out what pages to scrape we first need to parse our JSON from the API to extract the URLs of the restaurants.\n",
        "\n",
        "In general, it is a best practice to seperate the act of __downloading__ data and __parsing__ data. This ensures that your data processing pipeline is modular and extensible (and autogradable ;). This decoupling also solves the problem of expensive downloading but cheap parsing (in terms of computation and time)."
      ]
    },
    {
      "cell_type": "markdown",
      "metadata": {
        "id": "Z_yDXtnr6pyJ"
      },
      "source": [
        "---"
      ]
    },
    {
      "cell_type": "markdown",
      "metadata": {
        "id": "1UX8RDYc6pyK"
      },
      "source": [
        "## Q 2.5: Parse the API Responses and Extract the URLs\n",
        "\n",
        "Because we want to seperate the __downloading__ from the __parsing__, fill in the following function to parse the URLs pointing to the restaurants on `yelp.com`. As input your function should expect a string of [properly formatted JSON](http://www.json.org/) (which is similar to __BUT__ not the same as a Python dictionary) and as output should return a Python list of strings. The input JSON will be structured as follows (same as the [sample](https://www.yelp.com/developers/documentation/v3/business_search) on the Yelp API page):"
      ]
    },
    {
      "cell_type": "code",
      "metadata": {
        "id": "kiXqrIWZ6pyL"
      },
      "source": [
        "json_src = \"\"\"{\n",
        "  \"total\": 8228,\n",
        "  \"businesses\": [\n",
        "    {\n",
        "      \"rating\": 4,\n",
        "      \"price\": \"$\",\n",
        "      \"phone\": \"+14152520800\",\n",
        "      \"id\": \"four-barrel-coffee-san-francisco\",\n",
        "      \"is_closed\": false,\n",
        "      \"categories\": [\n",
        "        {\n",
        "          \"alias\": \"coffee\",\n",
        "          \"title\": \"Coffee & Tea\"\n",
        "        }\n",
        "      ],\n",
        "      \"review_count\": 1738,\n",
        "      \"name\": \"Four Barrel Coffee\",\n",
        "      \"url\": \"https://www.yelp.com/biz/four-barrel-coffee-san-francisco\",\n",
        "      \"coordinates\": {\n",
        "        \"latitude\": 37.7670169511878,\n",
        "        \"longitude\": -122.42184275\n",
        "      },\n",
        "      \"image_url\": \"http://s3-media2.fl.yelpcdn.com/bphoto/MmgtASP3l_t4tPCL1iAsCg/o.jpg\",\n",
        "      \"location\": {\n",
        "        \"city\": \"San Francisco\",\n",
        "        \"country\": \"US\",\n",
        "        \"address2\": \"\",\n",
        "        \"address3\": \"\",\n",
        "        \"state\": \"CA\",\n",
        "        \"address1\": \"375 Valencia St\",\n",
        "        \"zip_code\": \"94103\"\n",
        "      },\n",
        "      \"distance\": 1604.23,\n",
        "      \"transactions\": [\"pickup\", \"delivery\"]\n",
        "    }\n",
        "  ],\n",
        "  \"region\": {\n",
        "    \"center\": {\n",
        "      \"latitude\": 37.767413217936834,\n",
        "      \"longitude\": -122.42820739746094\n",
        "    }\n",
        "  }\n",
        "}\n",
        "\"\"\""
      ],
      "execution_count": null,
      "outputs": []
    },
    {
      "cell_type": "code",
      "metadata": {
        "id": "vw_A27rX6pyV",
        "colab": {
          "base_uri": "https://localhost:8080/"
        },
        "outputId": "778c7b8f-d98a-4f0f-a51d-401137727043"
      },
      "source": [
        "def parse_api_response_test(parse_api_response):\n",
        "    test.equal(parse_api_response(json_src), ['https://www.yelp.com/biz/four-barrel-coffee-san-francisco'])\n",
        "\n",
        "@test\n",
        "def parse_api_response(data):\n",
        "    \"\"\"\n",
        "    Parse Yelp API results to extract restaurant URLs.\n",
        "    \n",
        "    Args:\n",
        "        data (string): String of properly formatted JSON.\n",
        "\n",
        "    Returns:\n",
        "        (list): list of URLs as strings from the input JSON.\n",
        "    \"\"\"\n",
        "    x=json.loads(data)\n",
        "    #print(x[\"businesses\"][0][\"url\"])\n",
        "    \n",
        "    return [x[\"businesses\"][0][\"url\"]]"
      ],
      "execution_count": null,
      "outputs": [
        {
          "output_type": "stream",
          "text": [
            "### TESTING parse_api_response: PASSED 1/1\n",
            "###\n",
            "\n"
          ],
          "name": "stdout"
        }
      ]
    },
    {
      "cell_type": "markdown",
      "metadata": {
        "id": "-_o9b1Lo6pyj"
      },
      "source": [
        "---\n",
        "\n",
        "As we can see, JSON is quite trivial to parse (which is not the case with HTML as we will see in a second) and work with programmatically. This is why it is one of the most ubiquitous data serialization formats (especially for RESTful APIs) and a huge benefit of working with a well defined API if one exists. But APIs do not always exists or provide the data we might need, and as a last resort we can always scrape web pages..."
      ]
    },
    {
      "cell_type": "markdown",
      "metadata": {
        "id": "a94_56Zd6pyj"
      },
      "source": [
        "## Working with Web Pages (and HTML)\n",
        "\n",
        "Think of APIs as similar to accessing a application's database itself (something you can interactively query and receive structured data back). But the results are usually in a somewhat raw form with no formatting or visual representation (like the results from a database query). This is a benefit _AND_ a drawback depending on the end use case. For data science and _programatic_ analysis this raw form is quite ideal, but for an end user requesting information from a _graphical interface_ (like a web browser) this is very far from ideal since it takes some cognitive overhead to interpret the raw information. And vice versa, if we have HTML it is quite easy for a human to visually interpret it, but to try to perform some type of programmatic analysis we first need to parse the HTML into a more structured form.\n",
        "\n",
        "As a general rule of thumb, if the data you need can be accessed or retrieved in a structured form (either from a bulk download or API) prefer that first. But if the data you want (and need) is not as in our case we need to resort to alternative (messier) means.\n",
        "\n",
        "Going back to the \"hello world\" example of question 1 with the NYT, we will do something similar to retrieve the HTML of the Yelp site itself (rather than going through the API) programmatically as text. \n",
        "\n",
        "---"
      ]
    },
    {
      "cell_type": "markdown",
      "metadata": {
        "id": "SLVwGMUs6pym"
      },
      "source": [
        "## Q3: Parse a Yelp restaurant Page\n",
        "\n",
        "Using `BeautifulSoup`, parse the HTML of a single Yelp restaurant page to extract the reviews in a structured form as well as the total number of pages. Fill in following function stubs to parse a single page of reviews and return:\n",
        "* the reviews as a structured Python dictionary\n",
        "* the total number of pages of reviews.\n",
        "\n",
        "For each review be sure to structure your Python dictionary as follows (to be graded correctly). The order of the keys doesn't matter, only the keys and the data type of the values:\n",
        "\n",
        "```python\n",
        "{\n",
        "    'author': 'Aaron W.' # str\n",
        "    'rating': 4.0        # float\n",
        "    'date': '2019-01-03' # str, yyyy-mm-dd\n",
        "    'description': \"Wonderful!\" # str\n",
        "}\n",
        "```\n",
        "\n",
        "Return reviews in the order that they are present on the page.\n",
        "\n",
        "There can be issues with Beautiful Soup using various parsers, for maximum conpatibility (and fewest errors) initialize the library with the default (and Python standard library parser): `BeautifulSoup(markup, \"html.parser\")`. You may notice that the HTML is automatically generated. Yelp uses a modern web application technology called [React](https://reactjs.org/), which generates the markup from Javascript code. This is a common hazard of scraping data from HTML.\n",
        "\n",
        "Here's a hint for this problem: [`aria`](https://www.w3.org/WAI/PF/aria-1.1/terms) is a web standard that supports text-to-speech and other accessibility technologies, and `aria-*` properties are often used to tag elements that have some semantic meaning. They are (1) generally assigned by humans and (2) attached to user-identifiable features of the website and not nodes used for structure and wrapping."
      ]
    },
    {
      "cell_type": "code",
      "metadata": {
        "id": "C8uJSA-36pyo",
        "colab": {
          "base_uri": "https://localhost:8080/"
        },
        "outputId": "3f3a577f-4ee7-46d7-9e9c-7711ef110a3c"
      },
      "source": [
        "# You do not need to use regular expressions in this solution. This is only for testing.\n",
        "import re\n",
        "\n",
        "def reviews_check(reviews):\n",
        "    type_check = lambda field, typ: all(field in r and typ(r[field]) for r in reviews)\n",
        "    test.true(type_check(\"author\", lambda r: isinstance(r, str)))\n",
        "    test.true(type_check(\"rating\", lambda r: isinstance(r, float)))\n",
        "\n",
        "    datecheck = re.compile(\"^\\d{4}-\\d{2}-\\d{2}$\")\n",
        "    test.true(type_check(\"date\", lambda r: datecheck.match(r)))\n",
        "    test.true(type_check(\"description\", lambda r: isinstance(r, str)))\n",
        "\n",
        "def parse_page_test(parse_page):\n",
        "    reviews, num_pages = parse_page(retrieve_html(\"https://www.yelp.com/biz/the-porch-at-schenley-pittsburgh\")[1])\n",
        "    reviews_check(reviews)\n",
        "    test.equal(len(reviews), 20)\n",
        "    test.equal(num_pages, 35)\n",
        "\n",
        "@test\n",
        "def parse_page(html):\n",
        "    \"\"\"\n",
        "    Parse the reviews on a single page of a restaurant.\n",
        "    \n",
        "    Args:\n",
        "        html (string): String of HTML corresponding to a Yelp restaurant\n",
        "\n",
        "    Returns:\n",
        "        Tuple[List[Dict], int]: a tuple of two elements\n",
        "            first element: list of dictionaries corresponding to the extracted review information\n",
        "            second element: number of pages total.\n",
        "    \"\"\"\n",
        "    soup=BeautifulSoup(html, \"html.parser\")\n",
        "    allrev = soup.find_all(\"li\",{\"class\":\"lemon--li__373c0__1r9wz margin-b3__373c0__q1DuY padding-b3__373c0__342DA border--bottom__373c0__3qNtD border-color--default__373c0__3-ifU\"})\n",
        "    #print(allrev)\n",
        "    \n",
        "    u=[]\n",
        "    for i in range(len(allrev )):\n",
        "      l={}\n",
        "      try:\n",
        "        l[\"author\"]=allrev[i].find(\"a\",{\"class\":\"lemon--a__373c0__IEZFH link__373c0__1G70M link-color--inherit__373c0__3dzpk link-size--inherit__373c0__1VFlE\"}).text\n",
        "        #print(l[\"author\"])\n",
        "      except:\n",
        "        l[\"author\"]=None\n",
        "\n",
        "      try:\n",
        "        s=allrev[i].find(\"div\",{\"class\":\"lemon--div__373c0__1mboc i-stars__373c0__1T6rz i-stars--regular-5__373c0__N5JxY border-color--default__373c0__3-ifU overflow--hidden__373c0__2y4YK\"}).get(\"aria-label\")\n",
        "        #print(s)\n",
        "        # s=allrev[i].find(\"div\",{\"class\":\"lemon--div__373c0__1mboc i-stars__373c0__1T6rz i-stars--regular-4__373c0__N5JxY border-color--default__373c0__3-ifU overflow--hidden__373c0__2y4YK\"}).get(\"aria-label\")\n",
        "        # s=allrev[i].find(\"div\",{\"class\":\"lemon--div__373c0__1mboc i-stars__373c0__1T6rz i-stars--regular-3__373c0__N5JxY border-color--default__373c0__3-ifU overflow--hidden__373c0__2y4YK\"}).get(\"aria-label\")\n",
        "        # s=allrev[i].find(\"div\",{\"class\":\"lemon--div__373c0__1mboc i-stars__373c0__1T6rz i-stars--regular-2__373c0__N5JxY border-color--default__373c0__3-ifU overflow--hidden__373c0__2y4YK\"}).get(\"aria-label\")\n",
        "        # s=allrev[i].find(\"div\",{\"class\":\"lemon--div__373c0__1mboc i-stars__373c0__1T6rz i-stars--regular-1__373c0__N5JxY border-color--default__373c0__3-ifU overflow--hidden__373c0__2y4YK\"}).get(\"aria-label\")\n",
        "        \n",
        "        l[\"rating\"]=float(re.findall(r\"\\d+\", s)[0])\n",
        "      except:\n",
        "        l[\"rating\"]=0.0\n",
        "      \n",
        "      try:\n",
        "        \n",
        "        s=allrev[i].find(\"span\",{\"class\":\"lemon--span__373c0__3997G text__373c0__2Kxyz text-color--mid__373c0__jCeOG text-align--left__373c0__2XGa-\"}).text\n",
        "        s=s.split('/')\n",
        "        t=s[2]+'-'+s[1].zfill(2) + '-'+s[0].zfill(2)\n",
        "        l[\"date\"]=t\n",
        "        \n",
        "      except:\n",
        "        l[\"date\"]=None\n",
        "      \n",
        "      try:\n",
        "        l[\"description\"]=allrev[i].find(\"span\",{\"class\":\"lemon--span__373c0__3997G raw__373c0__3rcx7\"}).text\n",
        "      except:\n",
        "        l[\"description\"]=None\n",
        "\n",
        "      u.append(l)\n",
        "      #print(l)\n",
        "      \n",
        "\n",
        "    print(len(u))\n",
        "    numofpag = soup.find(\"div\",{\"class\":\"lemon--div__373c0__1mboc border-color--default__373c0__3-ifU text-align--center__373c0__2n2yQ\"}).text\n",
        "    res=numofpag.split()[-1]\n",
        "    \n",
        "    \n",
        "    return (u, int(res))\n"
      ],
      "execution_count": null,
      "outputs": [
        {
          "output_type": "stream",
          "text": [
            "20\n",
            "### TESTING parse_page: PASSED 6/6\n",
            "###\n",
            "\n"
          ],
          "name": "stdout"
        }
      ]
    },
    {
      "cell_type": "markdown",
      "metadata": {
        "id": "iv8xkcZu6pyv"
      },
      "source": [
        "---\n",
        "\n",
        "## Q 3.5: Extract all of the Yelp reviews for a Single Restaurant\n",
        "\n",
        "So now that we have parsed a single page, and figured out a method to go from one page to the next we are ready to combine these two techniques and actually crawl through web pages! \n",
        "\n",
        "Using `requests`, programmatically retrieve __ALL__ of the reviews for a __single__ restaurant (provided as a parameter). Just like the API was paginated, the HTML paginates its reviews (it would be a very long web page to show 300 reviews on a single page) and to get all the reviews you will need to parse and traverse the HTML. As input your function will receive a URL corresponding to a Yelp restaurant. As output return a list of dictionaries (structured the same as question 3 containing the relevant information from the reviews.\n",
        "\n",
        "Return reviews in the order that they are present on the page.\n",
        "\n",
        "You will need to get the number of pages on the first request and generate the URL for subsequent pages automatically. Use the Yelp website to see how the URL changes for subsequent pages."
      ]
    },
    {
      "cell_type": "code",
      "metadata": {
        "id": "pQYbpypQ6pyx",
        "colab": {
          "base_uri": "https://localhost:8080/"
        },
        "outputId": "b4a0c429-72b8-4c14-c9c1-885de5c3cd02"
      },
      "source": [
        "def extract_reviews_test(extract_reviews):\n",
        "    reviews = extract_reviews(\"https://www.yelp.com/biz/larry-and-carols-pizza-pittsburgh\")\n",
        "    test.equal(len(reviews), 50) # This may change!\n",
        "    reviews_check(reviews)\n",
        "\n",
        "@test\n",
        "def extract_reviews(url):\n",
        "    \"\"\"\n",
        "    Retrieve ALL of the reviews for a single restaurant on Yelp.\n",
        "\n",
        "    Parameters:\n",
        "        url (string): Yelp URL corresponding to the restaurant of interest.\n",
        "\n",
        "    Returns:\n",
        "        reviews (list): list of dictionaries containing extracted review information\n",
        "    \"\"\"\n",
        "    rev=[]\n",
        "    url+=\"?start=\"\n",
        "    for x in range(0,41,20):\n",
        "      url2=url+str(x)\n",
        "      u,_=parse_page(retrieve_html(str(url2))[1])\n",
        "      rev+=u\n",
        "      print(len(rev))\n",
        "    \n",
        "    return rev\n"
      ],
      "execution_count": null,
      "outputs": [
        {
          "output_type": "stream",
          "text": [
            "20\n",
            "20\n",
            "20\n",
            "40\n",
            "10\n",
            "50\n",
            "### TESTING extract_reviews: PASSED 5/5\n",
            "###\n",
            "\n"
          ],
          "name": "stdout"
        }
      ]
    },
    {
      "cell_type": "code",
      "metadata": {
        "id": "ILOJfWJ92q8M"
      },
      "source": [
        ""
      ],
      "execution_count": null,
      "outputs": []
    }
  ]
}